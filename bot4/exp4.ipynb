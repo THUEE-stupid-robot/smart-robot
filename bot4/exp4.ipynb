{
 "cells": [
  {
   "cell_type": "code",
   "execution_count": null,
   "metadata": {},
   "outputs": [],
   "source": [
    "from envSetup import load_tag_pos\n",
    "from mapSetup import create_grid_map, draw_grid, group_obstacles, plot_map, plot_path_on_map\n",
    "import pathLib\n",
    "import numpy as np\n",
    "from Agent import BotAgent\n",
    "\n",
    "intrinsic = np.array(([207.3099,0,314.3843],[0,205.0819,239.2206],[0,0,1]),dtype=np.double)\n",
    "\n",
    "distortion = np.array([0.1912,-0.0889,0,0],dtype=np.double)\n",
    "\n",
    "tag_poses, centers = load_tag_pos()\n",
    "agent = BotAgent(tag_poses, intrinsic, distortion)"
   ]
  },
  {
   "cell_type": "code",
   "execution_count": null,
   "metadata": {},
   "outputs": [],
   "source": [
    "print(agent.getPosition())"
   ]
  },
  {
   "cell_type": "markdown",
   "metadata": {},
   "source": []
  }
 ],
 "metadata": {
  "kernelspec": {
   "display_name": "venv",
   "language": "python",
   "name": "python3"
  },
  "language_info": {
   "name": "python",
   "version": "3.9.2"
  }
 },
 "nbformat": 4,
 "nbformat_minor": 2
}
