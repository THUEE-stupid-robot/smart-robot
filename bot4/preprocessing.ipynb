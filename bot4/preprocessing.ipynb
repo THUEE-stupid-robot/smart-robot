{
 "cells": [
  {
   "cell_type": "code",
   "execution_count": 8,
   "metadata": {},
   "outputs": [],
   "source": [
    "from envSetup import load_tag_pos\n",
    "from AprilLib import TagDetect\n",
    "import cv2\n",
    "import numpy as np\n",
    "\n",
    "# img_index = 209\n",
    "\n",
    "intrinsic = np.array(([207.9138,0,315.9991],[0,206.5876,242.7096],[0,0,1]),dtype=np.double)\n",
    "\n",
    "distortion = np.array([0.2345,-0.1114,0,0],dtype=np.double)\n",
    "\n",
    "tag_poses, centers, screens = load_tag_pos()\n",
    "tg = TagDetect(tag_poses, intrinsic, distortion)"
   ]
  },
  {
   "cell_type": "code",
   "execution_count": 4,
   "metadata": {},
   "outputs": [],
   "source": [
    "Classes = ['bailianhua',\n",
    " 'chuju',\n",
    " 'hehua',\n",
    " 'juhua',\n",
    " 'lamei',\n",
    " 'lanhua',\n",
    " 'meiguihua',\n",
    " 'shuixianhua',\n",
    " 'taohua',\n",
    " 'yinghua',\n",
    " 'yuanweihua',\n",
    " 'zijinghua']"
   ]
  },
  {
   "cell_type": "code",
   "execution_count": 7,
   "metadata": {},
   "outputs": [],
   "source": [
    "import os\n",
    "import shutil\n",
    "for c in Classes:\n",
    "    for root, dirs, files in os.walk(f\"../data/train_data_raw/{c}\"):\n",
    "        i = 0\n",
    "        for file in files:\n",
    "            shutil.copy2(f\"../data/train_data_raw/{c}/{file}\", f\"./data/train/{c}/{i}.jpg\")\n",
    "            i+=1\n",
    "    "
   ]
  },
  {
   "cell_type": "code",
   "execution_count": 9,
   "metadata": {},
   "outputs": [],
   "source": [
    "import cv2\n",
    "def preprocess_image(filePath: str):\n",
    "    img = cv2.imread(filePath)\n",
    "    res = tg.detect(img)\n",
    "    for tag in res:\n",
    "        if tag.tag_id == 32:\n",
    "            _, rvec, tvec = cv2.solvePnP(tg.tagStandard[str(tag.tag_id)], tag.corners, tg.intrinsic, tg.distortion)\n",
    "            R, _ = cv2.Rodrigues(rvec)\n",
    "            point2d, _ = cv2.projectPoints(screens[tag.tag_id], R, tvec, intrinsic, distortion)\n",
    "            pts1 = point2d.astype(np.float32)\n",
    "            pts2 = np.array([[0, 0], [27, 0], [27, 27], [0, 27]], dtype=np.float32)\n",
    "            M = cv2.getPerspectiveTransform(pts1, pts2)\n",
    "            result = cv2.warpPerspective(img, M, (28, 28))\n",
    "            cv2.imwrite(filePath, result)\n",
    "        else:\n",
    "            continue"
   ]
  },
  {
   "cell_type": "code",
   "execution_count": 10,
   "metadata": {},
   "outputs": [],
   "source": [
    "for root, dirs, files in os.walk(\"./data/train/\"):\n",
    "    for file in files:\n",
    "        file_path = os.path.join(root, file)\n",
    "        preprocess_image(file_path)"
   ]
  },
  {
   "cell_type": "code",
   "execution_count": 3,
   "metadata": {},
   "outputs": [],
   "source": [
    "\n",
    "import os\n",
    "import cv2\n",
    "for root, dirs, files in os.walk(\"./data/train/bailianhua/\"):\n",
    "    l = []\n",
    "    for file in files:\n",
    "        file_path = os.path.join(root, file)\n",
    "        img = cv2.imread(file_path)\n",
    "        l.append(img)"
   ]
  },
  {
   "cell_type": "code",
   "execution_count": 11,
   "metadata": {},
   "outputs": [],
   "source": [
    "import numpy as np\n",
    "s = np.mean(l, axis=0).astype(int)"
   ]
  },
  {
   "cell_type": "code",
   "execution_count": 12,
   "metadata": {},
   "outputs": [
    {
     "data": {
      "image/png": "[encoded data removed]",
      "text/plain": [
       "<Figure size 640x480 with 1 Axes>"
      ]
     },
     "metadata": {},
     "output_type": "display_data"
    }
   ],
   "source": [
    "import matplotlib.pyplot as plt\n",
    "plt.imshow(s)\n",
    "plt.show()"
   ]
  }
 ],
 "metadata": {
  "kernelspec": {
   "display_name": "venv",
   "language": "python",
   "name": "python3"
  },
  "language_info": {
   "codemirror_mode": {
    "name": "ipython",
    "version": 3
   },
   "file_extension": ".py",
   "mimetype": "text/x-python",
   "name": "python",
   "nbconvert_exporter": "python",
   "pygments_lexer": "ipython3",
   "version": "3.9.2"
  }
 },
 "nbformat": 4,
 "nbformat_minor": 2
}
