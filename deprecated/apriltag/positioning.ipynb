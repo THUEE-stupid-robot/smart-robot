{
 "cells": [
  {
   "cell_type": "code",
   "execution_count": 1,
   "metadata": {},
   "outputs": [
    {
     "name": "stderr",
     "output_type": "stream",
     "text": [
      "sh: 0: cannot open ./stop_sys_ttyPS0.sh: No such file\n"
     ]
    }
   ],
   "source": [
    "import numpy as np\n",
    "import cv2\n",
    "import apriltag\n",
    "import solvePos\n",
    "import basic"
   ]
  },
  {
   "cell_type": "code",
   "execution_count": 2,
   "metadata": {},
   "outputs": [],
   "source": [
    "def load_config(r1,rx,ry):\n",
    "    tag_positions = {}\n",
    "    tag_centers = {}\n",
    "    sftx = np.array([rx, 0, 0])\n",
    "    sfty = np.array([0, ry, 0])\n",
    "    tag_positions['3'] = np.array([ [r1/2, -r1/2, 0],[-r1/2, -r1/2, 0], [-r1/2, r1/2, 0], [r1/2, r1/2, 0],])\n",
    "    tag_positions['2'] = tag_positions['3'] - sftx/2 -sfty/2\n",
    "    tag_positions['1'] = tag_positions['3'] + sftx/2 -sfty/2\n",
    "    tag_positions['0'] = tag_positions['3'] + sftx/2 +sfty/2\n",
    "    tag_positions['5'] = tag_positions['3'] - sftx/2 +sfty/2\n",
    "\n",
    "    destination = np.array([0,0])\n",
    "    return tag_positions, destination\n",
    "tag_positions, destination = load_config(5.00, 76.5, 74.7)"
   ]
  },
  {
   "cell_type": "code",
   "execution_count": 3,
   "metadata": {},
   "outputs": [],
   "source": [
    "intrinsic = np.array(([207.3099,0,314.3843],[0,205.0819,239.2206],[0,0,1]),dtype=np.double)\n",
    "\n",
    "distortion = np.array([0.1912,-0.0889,0,0],dtype=np.double)\n",
    "\n",
    "#mate 40\n",
    "#intrinsic = np.array(([6662,0,4053.9],[0,6671.3,3071.4],[0,0,1]),dtype=np.double)\n",
    "\n",
    "#distortion = np.array([-0.0172,0.2871,0,0],dtype=np.double)"
   ]
  },
  {
   "cell_type": "code",
   "execution_count": 4,
   "metadata": {},
   "outputs": [],
   "source": [
    "options = apriltag.DetectorOptions(families=\"tag36h11\")\n",
    "detector = apriltag.Detector(options)\n",
    "img = cv2.imread(\"./headimg/f5bed3f2416813dd9f432e19725a6ac.jpg\")\n",
    "gray = cv2.cvtColor(img, cv2.COLOR_BGR2GRAY)\n",
    "tags = detector.detect(gray)"
   ]
  },
  {
   "cell_type": "code",
   "execution_count": 5,
   "metadata": {},
   "outputs": [
    {
     "name": "stdout",
     "output_type": "stream",
     "text": [
      "发现tag 2\n",
      "相机位置： [[-6.06154227]\n",
      " [19.35694575]\n",
      " [65.2035724 ]]\n",
      "旋转角 37.33482658375705\n",
      "发现tag 3\n",
      "相机位置： [[-15.36013189]\n",
      " [ -2.62533812]\n",
      " [ 69.70205332]]\n",
      "旋转角 36.92681773480714\n",
      "发现tag 5\n",
      "相机位置： [[ -4.68065147]\n",
      " [-11.26321672]\n",
      " [ 69.98038974]]\n",
      "旋转角 38.181717849857385\n"
     ]
    }
   ],
   "source": [
    "for n, tag in enumerate(tags):\n",
    "    pos = tag_positions[str(tag.tag_id)]\n",
    "    corners = np.array(tag.corners)\n",
    "    pos_, rot_ = solvePos.solvePositionAndRotation(pos,tag.corners,intrinsic,distortion)\n",
    "    print(\"发现tag\", tag.tag_id)\n",
    "    print(\"相机位置：\", pos_)\n",
    "    print(\"旋转角\", rot_)"
   ]
  },
  {
   "cell_type": "code",
   "execution_count": 6,
   "metadata": {},
   "outputs": [],
   "source": [
    "#tag_num = 0\n",
    "'''\n",
    "while tag_num ==0:\n",
    "    # 拍照\n",
    "    \n",
    "    gray = cv2.cvtColor(img, cv2.COLOR_BGR2GRAY)\n",
    "    tags = detector.detect(gray)\n",
    "    tag_num = len(tags)\n",
    "    if tag_num == 0:\n",
    "        print(\"not detect\")\n",
    "        for i in range(5):\n",
    "            run_action(\"turn003L\")\n",
    "            wait_req()\n",
    "    else:\n",
    "        break\n",
    "\n",
    "tag = tags[0]\n",
    "pos = tag_positions[str(tag.tag_id)]\n",
    "corners = np.array(tag.corners)\n",
    "realPos, ang = solvePos.solvePositionAndRotation(pos,corners,intrinsic,distortion)\n",
    "\n",
    "shouldRotate = solvePos.getShouldRotAngle(realPos, ang)\n",
    "'''\n",
    "shouldRotate = 1000\n",
    "\n",
    "while abs(shouldRotate) > 10:\n",
    "    tag_num = 0\n",
    "    #拍照\n",
    "    while tag_num ==0:\n",
    "    # 拍照\n",
    "        orig_img_path = './headtmp.jpg'\n",
    "        # !fswebcam  --no-banner --save {orig_img_path} -d /dev/video0 2> /dev/null\n",
    "        !fswebcam  --no-banner --save {orig_img_path} -d /dev/video0 2\n",
    "        img = cv2.imread(\"./headtmp.jpg\")\n",
    "        gray = cv2.cvtColor(img, cv2.COLOR_BGR2GRAY)\n",
    "        tags = detector.detect(gray)\n",
    "        tag_num = len(tags)\n",
    "        if tag_num == 0:\n",
    "            print(\"not detect\")\n",
    "            for i in range(2):\n",
    "                run_action(\"turn010L\")\n",
    "                wait_req()\n",
    "        else:\n",
    "            break\n",
    "        \n",
    "    tag = tags[0]\n",
    "    pos = tag_positions[str(tag.tag_id)]\n",
    "    corners = np.array(tag.corners)\n",
    "    realPos, ang = solvePos.solvePositionAndRotation(pos,corners,intrinsic,distortion)\n",
    "\n",
    "    shouldRotate = solvePos.getShouldRotAngle(realPos, ang)\n",
    "    \n",
    "    if shouldRotate >= 50:\n",
    "        #左转\n",
    "        run_action(\"turn010L\")\n",
    "        wait_req()\n",
    "        continue\n",
    "    if shouldRotate >= 20:\n",
    "        run_action(\"turn005L\")\n",
    "        wait_req()\n",
    "        continue\n",
    "    if shouldRotate >= 10:\n",
    "        run_action(\"turn003L\")\n",
    "        wait_req()\n",
    "        continue\n",
    "    if shouldRotate <= -50:\n",
    "        #左转\n",
    "        run_action(\"turn010R\")\n",
    "        wait_req()\n",
    "        continue\n",
    "    if shouldRotate <= -20:\n",
    "        run_action(\"turn005R\")\n",
    "        wait_req()\n",
    "        continue\n",
    "    if shouldRotate <= -10:\n",
    "        run_action(\"turn003R\")\n",
    "        wait_req()\n",
    "        continue\n",
    "\n",
    "distance = (realPos[0]**2+realPos[1]**2)**0.5\n",
    "run_action(\"fastForward06\")\n",
    "wait_req()\n",
    "\n"
   ]
  },
  {
   "cell_type": "code",
   "execution_count": 11,
   "metadata": {},
   "outputs": [
    {
     "data": {
      "text/plain": [
       "120.00000000000001"
      ]
     },
     "execution_count": 11,
     "metadata": {},
     "output_type": "execute_result"
    }
   ],
   "source": [
    "x = 3**0.5\n",
    "y = 1\n",
    "np.degrees(np.arctan2(x,-y))"
   ]
  }
 ],
 "metadata": {
  "kernelspec": {
   "display_name": "venv",
   "language": "python",
   "name": "python3"
  },
  "language_info": {
   "codemirror_mode": {
    "name": "ipython",
    "version": 3
   },
   "file_extension": ".py",
   "mimetype": "text/x-python",
   "name": "python",
   "nbconvert_exporter": "python",
   "pygments_lexer": "ipython3",
   "version": "3.9.2"
  }
 },
 "nbformat": 4,
 "nbformat_minor": 2
}
