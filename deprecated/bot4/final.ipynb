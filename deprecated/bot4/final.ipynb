{
 "cells": [
  {
   "cell_type": "code",
   "execution_count": 9,
   "metadata": {},
   "outputs": [],
   "source": [
    "from envSetup import load_tag_pos\n",
    "from AprilLib import TagDetect\n",
    "import cv2\n",
    "import numpy as np\n",
    "\n",
    "img_index = 209\n",
    "\n",
    "intrinsic = np.array(([207.9138,0,315.9991],[0,206.5876,242.7096],[0,0,1]),dtype=np.double)\n",
    "\n",
    "distortion = np.array([0.2345,-0.1114,0,0],dtype=np.double)\n",
    "\n",
    "tag_poses, centers, screens = load_tag_pos()\n",
    "tg = TagDetect(tag_poses, intrinsic, distortion)\n",
    "img = cv2.imread(f\"../data/head3/{img_index}.jpg\")"
   ]
  },
  {
   "cell_type": "code",
   "execution_count": 10,
   "metadata": {},
   "outputs": [],
   "source": [
    "tags = tg.detect(img)"
   ]
  },
  {
   "cell_type": "code",
   "execution_count": 11,
   "metadata": {},
   "outputs": [
    {
     "data": {
      "text/plain": [
       "[Detection(tag_family=b'tag36h11', tag_id=19, hamming=0, goodness=0.0, decision_margin=86.57315063476562, homography=array([[-1.68200611e-01, -4.01391508e-02, -1.28644011e+01],\n",
       "        [ 3.82496361e-01, -7.11320599e-01, -7.10054105e+00],\n",
       "        [ 1.49085918e-03, -1.04364095e-04, -3.49869614e-02]]), center=array([367.69129478, 202.94820606]), corners=array([[347.94772339, 186.17193604],\n",
       "        [389.09213257, 179.88653564],\n",
       "        [389.06427002, 221.10899353],\n",
       "        [348.15689087, 223.99859619]]))]"
      ]
     },
     "execution_count": 11,
     "metadata": {},
     "output_type": "execute_result"
    }
   ],
   "source": [
    "tags"
   ]
  },
  {
   "cell_type": "code",
   "execution_count": 12,
   "metadata": {},
   "outputs": [],
   "source": [
    "for tag in tags:\n",
    "    _, rvec, tvec = cv2.solvePnP(tg.tagStandard[str(tag.tag_id)], tag.corners, tg.intrinsic, tg.distortion)\n",
    "    R, _ = cv2.Rodrigues(rvec)\n",
    "    extrinsic_matrix = np.concatenate((R, tvec), axis=1)\n",
    "    point2d, _ = cv2.projectPoints(screens[tag.tag_id], R, tvec, intrinsic, distortion)\n",
    "    "
   ]
  },
  {
   "cell_type": "code",
   "execution_count": 13,
   "metadata": {},
   "outputs": [
    {
     "data": {
      "text/plain": [
       "array([[258.29295215, 225.89604662],\n",
       "       [291.7329157 , 223.96125583],\n",
       "       [292.32154725, 293.13804908],\n",
       "       [258.3145882 , 291.06267701]])"
      ]
     },
     "execution_count": 13,
     "metadata": {},
     "output_type": "execute_result"
    }
   ],
   "source": [
    "point2d[:,0,:]"
   ]
  },
  {
   "cell_type": "code",
   "execution_count": 14,
   "metadata": {},
   "outputs": [],
   "source": [
    "#cv2.polylines(img, point2d.astype(int), isClosed=True, color=(0, 255, 0), thickness=2)\n",
    "#cv2.imwrite(\"test.jpg\", img)"
   ]
  },
  {
   "cell_type": "code",
   "execution_count": 15,
   "metadata": {},
   "outputs": [],
   "source": [
    "pts1 = point2d.astype(np.float32)\n",
    "\n",
    "# 定义目标矩形的四个顶点坐标\n",
    "pts2 = np.array([[0, 0], [27, 0], [27, 27], [0, 27]], dtype=np.float32)\n",
    "\n",
    "# 计算透视变换矩阵\n",
    "M = cv2.getPerspectiveTransform(pts1, pts2)\n",
    "\n",
    "# 应用透视变换并拉伸为28x28的矩形\n",
    "result = cv2.warpPerspective(img, M, (28, 28))"
   ]
  },
  {
   "cell_type": "code",
   "execution_count": 16,
   "metadata": {},
   "outputs": [
    {
     "data": {
      "text/plain": [
       "True"
      ]
     },
     "execution_count": 16,
     "metadata": {},
     "output_type": "execute_result"
    }
   ],
   "source": [
    "cv2.imwrite(f\"get{img_index}.jpg\", result)"
   ]
  }
 ],
 "metadata": {
  "kernelspec": {
   "display_name": "venv",
   "language": "python",
   "name": "python3"
  },
  "language_info": {
   "codemirror_mode": {
    "name": "ipython",
    "version": 3
   },
   "file_extension": ".py",
   "mimetype": "text/x-python",
   "name": "python",
   "nbconvert_exporter": "python",
   "pygments_lexer": "ipython3",
   "version": "3.9.2"
  }
 },
 "nbformat": 4,
 "nbformat_minor": 2
}
