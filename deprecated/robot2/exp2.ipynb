{
 "cells": [
  {
   "cell_type": "code",
   "execution_count": null,
   "metadata": {},
   "outputs": [],
   "source": [
    "import time, PIL, os\n",
    "img_path = \"./capture.jpg\"\n",
    "!fswebcam  --no-banner --save {img_path} -d /dev/video0 2 --loop 1 --quiet --background"
   ]
  }
 ],
 "metadata": {
  "language_info": {
   "name": "python"
  }
 },
 "nbformat": 4,
 "nbformat_minor": 2
}
