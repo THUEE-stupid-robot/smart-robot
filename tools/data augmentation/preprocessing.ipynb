{
 "cells": [
  {
   "cell_type": "code",
   "execution_count": 8,
   "metadata": {},
   "outputs": [],
   "source": [
    "from envSetup import load_tag_pos\n",
    "from AprilLib import TagDetect\n",
    "import cv2\n",
    "import numpy as np\n",
    "\n",
    "# img_index = 209\n",
    "\n",
    "intrinsic = np.array(([207.9138,0,315.9991],[0,206.5876,242.7096],[0,0,1]),dtype=np.double)\n",
    "\n",
    "distortion = np.array([0.2345,-0.1114,0,0],dtype=np.double)\n",
    "\n",
    "tag_poses, centers, screens = load_tag_pos()\n",
    "tg = TagDetect(tag_poses, intrinsic, distortion)"
   ]
  },
  {
   "cell_type": "code",
   "execution_count": 53,
   "metadata": {},
   "outputs": [],
   "source": [
    "Classes = ['bailianhua',\n",
    " 'chuju',\n",
    " 'hehua',\n",
    " 'juhua',\n",
    " 'lamei',\n",
    " 'lanhua',\n",
    " 'meiguihua',\n",
    " 'shuixianhua',\n",
    " 'taohua',\n",
    " 'yinghua',\n",
    " 'yuanweihua',\n",
    " 'zijinghua']"
   ]
  },
  {
   "cell_type": "code",
   "execution_count": 7,
   "metadata": {},
   "outputs": [],
   "source": [
    "import os\n",
    "import shutil\n",
    "for c in Classes:\n",
    "    for root, dirs, files in os.walk(f\"../data/train_data_raw/{c}\"):\n",
    "        i = 0\n",
    "        for file in files:\n",
    "            shutil.copy2(f\"../data/train_data_raw/{c}/{file}\", f\"./data/train/{c}/{i}.jpg\")\n",
    "            i+=1\n",
    "    "
   ]
  },
  {
   "cell_type": "code",
   "execution_count": 9,
   "metadata": {},
   "outputs": [],
   "source": [
    "import cv2\n",
    "def preprocess_image(filePath: str):\n",
    "    img = cv2.imread(filePath)\n",
    "    res = tg.detect(img)\n",
    "    for tag in res:\n",
    "        if tag.tag_id == 32:\n",
    "            _, rvec, tvec = cv2.solvePnP(tg.tagStandard[str(tag.tag_id)], tag.corners, tg.intrinsic, tg.distortion)\n",
    "            R, _ = cv2.Rodrigues(rvec)\n",
    "            point2d, _ = cv2.projectPoints(screens[tag.tag_id], R, tvec, intrinsic, distortion)\n",
    "            pts1 = point2d.astype(np.float32)\n",
    "            pts2 = np.array([[0, 0], [27, 0], [27, 27], [0, 27]], dtype=np.float32)\n",
    "            M = cv2.getPerspectiveTransform(pts1, pts2)\n",
    "            result = cv2.warpPerspective(img, M, (28, 28))\n",
    "            cv2.imwrite(filePath, result)\n",
    "        else:\n",
    "            continue"
   ]
  },
  {
   "cell_type": "code",
   "execution_count": 10,
   "metadata": {},
   "outputs": [],
   "source": [
    "for root, dirs, files in os.walk(\"./data/train/\"):\n",
    "    for file in files:\n",
    "        file_path = os.path.join(root, file)\n",
    "        preprocess_image(file_path)"
   ]
  },
  {
   "cell_type": "code",
   "execution_count": 3,
   "metadata": {},
   "outputs": [],
   "source": [
    "\n",
    "import os\n",
    "import cv2\n",
    "for root, dirs, files in os.walk(\"./data/train/bailianhua/\"):\n",
    "    l = []\n",
    "    for file in files:\n",
    "        file_path = os.path.join(root, file)\n",
    "        img = cv2.imread(file_path)\n",
    "        l.append(img)"
   ]
  },
  {
   "cell_type": "code",
   "execution_count": 11,
   "metadata": {},
   "outputs": [],
   "source": [
    "import numpy as np\n",
    "s = np.mean(l, axis=0).astype(int)"
   ]
  },
  {
   "cell_type": "code",
   "execution_count": 63,
   "metadata": {},
   "outputs": [],
   "source": [
    "import numpy as np\n",
    "def add_noise(image, mean, std_dev):\n",
    "    noisy_image = np.array(image.copy())\n",
    "    noise = np.clip(np.random.normal(mean, std_dev, noisy_image.size), -10, 10)\n",
    "    noisy_image = noisy_image + noise.reshape(noisy_image.shape).astype('int8')\n",
    "    noisy_image = np.clip(noisy_image, 0, 255)\n",
    "    return noisy_image.astype(np.uint8)"
   ]
  },
  {
   "cell_type": "code",
   "execution_count": 88,
   "metadata": {},
   "outputs": [],
   "source": [
    "from PIL import Image, ImageOps\n",
    "\n",
    "def shift_image_black(image, shift_x, shift_y):\n",
    "    # 创建一个新的图像并填充为黑色\n",
    "    translated_image = Image.new(image.mode, image.size, (0, 0, 0))\n",
    "    # 计算平移后的位置\n",
    "    new_x = shift_x\n",
    "    new_y = shift_y\n",
    "    # 将原始图像粘贴到新图像中\n",
    "    translated_image.paste(image, (new_x, new_y))\n",
    "    return translated_image\n",
    "\n",
    "def shift_image_white(image, shift_x, shift_y):\n",
    "    # 创建一个新的图像并填充为黑色\n",
    "    translated_image = Image.new(image.mode, image.size, (255, 255, 255))\n",
    "    # 计算平移后的位置\n",
    "    new_x = shift_x\n",
    "    new_y = shift_y\n",
    "    # 将原始图像粘贴到新图像中\n",
    "    translated_image.paste(image, (new_x, new_y))\n",
    "    return translated_image\n",
    "\n",
    "import math\n",
    "\n",
    "def rotate_image(image, angle):\n",
    "    # 将角度转换为弧度\n",
    "    angle_rad = math.radians(angle)\n",
    "    # 计算旋转后的图像尺寸\n",
    "    width, height = image.size\n",
    "    new_width = 28\n",
    "    new_height = 28\n",
    "    # 创建一个新的图像并填充为黑色\n",
    "    rotated_image = Image.new(image.mode, (new_width, new_height), (255, 255, 255))\n",
    "    # 计算旋转后的位置\n",
    "    dx = -2\n",
    "    dy = -3\n",
    "    # 将原始图像旋转并粘贴到新图像中\n",
    "    rotated_image.paste(image.rotate(angle, expand=True), (dx, dy))\n",
    "    return rotated_image"
   ]
  },
  {
   "cell_type": "code",
   "execution_count": 89,
   "metadata": {},
   "outputs": [
    {
     "data": {
      "image/png": "[encoded data removed]",
      "text/plain": [
       "<Figure size 640x480 with 4 Axes>"
      ]
     },
     "metadata": {},
     "output_type": "display_data"
    }
   ],
   "source": [
    "import matplotlib.pyplot as plt\n",
    "from PIL import Image\n",
    "s = Image.open(\"./data/train/bailianhua/8.jpg\")\n",
    "s2 = add_noise(s, 0, 10)\n",
    "s3 = shift_image_black(s, 2, 0)\n",
    "s3 = add_noise(s3, 0, 10)\n",
    "s4 = rotate_image(s, 10)\n",
    "s4 = add_noise(s4, 0, 10)\n",
    "plt.subplot(1,4,1)\n",
    "plt.imshow(s)\n",
    "plt.subplot(1,4,2)\n",
    "plt.imshow(s2)\n",
    "plt.subplot(1,4,3)\n",
    "plt.imshow(s3)\n",
    "plt.subplot(1,4,4)\n",
    "plt.imshow(s4)\n",
    "plt.show()"
   ]
  },
  {
   "cell_type": "code",
   "execution_count": 90,
   "metadata": {},
   "outputs": [
    {
     "ename": "error",
     "evalue": "OpenCV(4.8.1) :-1: error: (-5:Bad argument) in function 'cvtColor'\n> Overload resolution failed:\n>  - src is not a numpy array, neither a scalar\n>  - Expected Ptr<cv::UMat> for argument 'src'\n",
     "output_type": "error",
     "traceback": [
      "\u001b[0;31m---------------------------------------------------------------------------\u001b[0m",
      "\u001b[0;31merror\u001b[0m                                     Traceback (most recent call last)",
      "Cell \u001b[0;32mIn[90], line 52\u001b[0m\n\u001b[1;32m     50\u001b[0m     os\u001b[38;5;241m.\u001b[39mmkdir(\u001b[38;5;124mf\u001b[39m\u001b[38;5;124m\"\u001b[39m\u001b[38;5;124m./data/enhanced_train/\u001b[39m\u001b[38;5;132;01m{\u001b[39;00mc\u001b[38;5;132;01m}\u001b[39;00m\u001b[38;5;124m\"\u001b[39m)\n\u001b[1;32m     51\u001b[0m \u001b[38;5;28;01mfor\u001b[39;00m ii, gg \u001b[38;5;129;01min\u001b[39;00m \u001b[38;5;28menumerate\u001b[39m(imglist):\n\u001b[0;32m---> 52\u001b[0m     gg_bgr \u001b[38;5;241m=\u001b[39m \u001b[43mcv2\u001b[49m\u001b[38;5;241;43m.\u001b[39;49m\u001b[43mcvtColor\u001b[49m\u001b[43m(\u001b[49m\u001b[43mgg\u001b[49m\u001b[43m,\u001b[49m\u001b[43m \u001b[49m\u001b[43mcv2\u001b[49m\u001b[38;5;241;43m.\u001b[39;49m\u001b[43mCOLOR_RGB2BGR\u001b[49m\u001b[43m)\u001b[49m\n\u001b[1;32m     53\u001b[0m     cv2\u001b[38;5;241m.\u001b[39mimwrite(\u001b[38;5;124mf\u001b[39m\u001b[38;5;124m\"\u001b[39m\u001b[38;5;124m./data/enhanced_train/\u001b[39m\u001b[38;5;132;01m{\u001b[39;00mc\u001b[38;5;132;01m}\u001b[39;00m\u001b[38;5;124m/\u001b[39m\u001b[38;5;132;01m{\u001b[39;00mii\u001b[38;5;132;01m}\u001b[39;00m\u001b[38;5;124m.jpg\u001b[39m\u001b[38;5;124m\"\u001b[39m, gg_bgr)\n",
      "\u001b[0;31merror\u001b[0m: OpenCV(4.8.1) :-1: error: (-5:Bad argument) in function 'cvtColor'\n> Overload resolution failed:\n>  - src is not a numpy array, neither a scalar\n>  - Expected Ptr<cv::UMat> for argument 'src'\n"
     ]
    }
   ],
   "source": [
    "import random\n",
    "import cv2\n",
    "import os\n",
    "random.seed(2023)\n",
    "for c in Classes:\n",
    "    for root, dirs, files in os.walk(f\"./data/train/{c}\"):\n",
    "        imglist = []\n",
    "        for file in files:\n",
    "            base = Image.open(f\"./data/train/{c}/{file}\")\n",
    "            xs1 = shift_image_black(base, 3, 0)\n",
    "            xs1 = add_noise(xs1, 0, 5)\n",
    "            imglist.append(xs1)\n",
    "\n",
    "            xs2 = shift_image_black(base, -3, 0)\n",
    "            xs2 = add_noise(xs2, 0, 5)\n",
    "            imglist.append(xs2)\n",
    "\n",
    "            xs3 = shift_image_black(base, 0, 3)\n",
    "            xs3 = add_noise(xs3, 0, 5)\n",
    "            imglist.append(xs3)\n",
    "\n",
    "            xs4 = shift_image_black(base, 0, -3)\n",
    "            xs4 = add_noise(xs4, 0, 5)\n",
    "            imglist.append(xs4)\n",
    "\n",
    "            xs5 = shift_image_white(base, 3, 0)\n",
    "            xs5 = add_noise(xs5, 0, 5)\n",
    "            imglist.append(xs5)\n",
    "\n",
    "            xs6 = shift_image_white(base, -3, 0)\n",
    "            xs6 = add_noise(xs6, 0, 5)\n",
    "            imglist.append(xs6)\n",
    "\n",
    "            xs7 = shift_image_white(base, 0, 3)\n",
    "            xs7 = add_noise(xs7, 0, 5)\n",
    "            imglist.append(xs7)\n",
    "\n",
    "            xs8 = shift_image_white(base, 0, -3)\n",
    "            xs8 = add_noise(xs8, 0, 5)\n",
    "            imglist.append(xs8)\n",
    "\n",
    "            xs9 = add_noise(base, 0, 10)\n",
    "            imglist.append(xs9)\n",
    "\n",
    "            xs10 = rotate_image(s, 10)\n",
    "            xs10 = add_noise(xs10, 0, 5)\n",
    "            imglist.append(xs10)\n",
    "\n",
    "        random.shuffle(imglist)\n",
    "        if not os.path.exists(f\"./data/enhanced_train/{c}\"):\n",
    "            os.mkdir(f\"./data/enhanced_train/{c}\")\n",
    "        for ii, gg in enumerate(imglist):\n",
    "            gg_bgr = cv2.cvtColor(gg, cv2.COLOR_RGB2BGR)\n",
    "            cv2.imwrite(f\"./data/enhanced_train/{c}/{ii}.jpg\", gg_bgr)"
   ]
  }
 ],
 "metadata": {
  "kernelspec": {
   "display_name": "venv",
   "language": "python",
   "name": "python3"
  },
  "language_info": {
   "codemirror_mode": {
    "name": "ipython",
    "version": 3
   },
   "file_extension": ".py",
   "mimetype": "text/x-python",
   "name": "python",
   "nbconvert_exporter": "python",
   "pygments_lexer": "ipython3",
   "version": "3.9.2"
  }
 },
 "nbformat": 4,
 "nbformat_minor": 2
}
